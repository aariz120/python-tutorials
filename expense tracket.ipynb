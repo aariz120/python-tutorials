{
 "cells": [
  {
   "cell_type": "code",
   "execution_count": 1,
   "metadata": {},
   "outputs": [
    {
     "name": "stdout",
     "output_type": "stream",
     "text": [
      "smart boy\n"
     ]
    }
   ],
   "source": [
    "print(\"smart boy\")"
   ]
  },
  {
   "cell_type": "code",
   "execution_count": 7,
   "metadata": {},
   "outputs": [
    {
     "name": "stdout",
     "output_type": "stream",
     "text": [
      "\n",
      " Expense Manager\n",
      "1.Add expense\n",
      "2.View expense\n",
      "3.View total expenses\n",
      "4.Expenses by category\n",
      "5. Exit\n",
      "expense added successfully\n",
      "\n",
      " Expense Manager\n",
      "1.Add expense\n",
      "2.View expense\n",
      "3.View total expenses\n",
      "4.Expenses by category\n",
      "5. Exit\n",
      "1.amount:$500.00,category:food,description:rice\n",
      "\n",
      " Expense Manager\n",
      "1.Add expense\n",
      "2.View expense\n",
      "3.View total expenses\n",
      "4.Expenses by category\n",
      "5. Exit\n",
      "total expenses:$500.00\n",
      "\n",
      " Expense Manager\n",
      "1.Add expense\n",
      "2.View expense\n",
      "3.View total expenses\n",
      "4.Expenses by category\n",
      "5. Exit\n",
      "food : $500.00\n",
      "\n",
      " Expense Manager\n",
      "1.Add expense\n",
      "2.View expense\n",
      "3.View total expenses\n",
      "4.Expenses by category\n",
      "5. Exit\n",
      "food : $500.00\n",
      "\n",
      " Expense Manager\n",
      "1.Add expense\n",
      "2.View expense\n",
      "3.View total expenses\n",
      "4.Expenses by category\n",
      "5. Exit\n",
      "Thankyou for usiong Expense Manager, Goodbye!\n"
     ]
    }
   ],
   "source": [
    "expenses=[]\n",
    "def add_expense(amount,category,description):\n",
    "    expenses.append({\"amount\":amount,\"category\":category,\"description\":description})\n",
    "    \n",
    "    \n",
    "def view_expenses():\n",
    "    for index,expense in enumerate(expenses,1):\n",
    "        print(f\"{index}.amount:${expense['amount']:.2f},category:{expense['category']},description:{expense['description']}\")\n",
    "        \n",
    "def total_expenses():\n",
    "    return sum(expense['amount']for expense in expenses)\n",
    "\n",
    "def expenses_by_category():\n",
    "    categories={}\n",
    "    for expense in expenses:\n",
    "        category=expense['category']\n",
    "        amount=expense['amount']\n",
    "        categories[category]=categories.get(category,0)+amount\n",
    "    return categories\n",
    "\n",
    "def main():\n",
    "    while True:\n",
    "        print(\"\\n Expense Manager\")\n",
    "        print(\"1.Add expense\")\n",
    "        print(\"2.View expense\")\n",
    "        print(\"3.View total expenses\")\n",
    "        print(\"4.Expenses by category\")\n",
    "        print(\"5. Exit\")\n",
    "        \n",
    "        choice=input(\"enter your choice(1-5)\")\n",
    "        if choice=='1':\n",
    "            amount=float(input(\"enter amount :\"))\n",
    "            category=input(\"enter category :\")\n",
    "            description=input(\"enter description\")\n",
    "            add_expense(amount,category,description)\n",
    "            print(\"expense added successfully\")\n",
    "            \n",
    "        elif choice=='2':\n",
    "            view_expenses()\n",
    "            \n",
    "        elif choice=='3':\n",
    "            print(f\"total expenses:${total_expenses():.2f}\")\n",
    "            \n",
    "        elif choice==\"4\":\n",
    "            categories=expenses_by_category()\n",
    "            for category,amount in categories.items():\n",
    "                print(f\"{category} : ${amount:.2f}\")\n",
    "            \n",
    "        elif choice==\"5\":\n",
    "            print(\"Thankyou for usiong Expense Manager, Goodbye!\")\n",
    "            break\n",
    "        else:\n",
    "            print(\"invalid choice . please try again\")\n",
    "            \n",
    "if __name__==\"__main__\":\n",
    "    main()\n",
    "            "
   ]
  },
  {
   "cell_type": "markdown",
   "metadata": {},
   "source": []
  },
  {
   "cell_type": "code",
   "execution_count": null,
   "metadata": {},
   "outputs": [],
   "source": []
  },
  {
   "cell_type": "code",
   "execution_count": null,
   "metadata": {},
   "outputs": [],
   "source": []
  },
  {
   "cell_type": "code",
   "execution_count": null,
   "metadata": {},
   "outputs": [],
   "source": []
  },
  {
   "cell_type": "code",
   "execution_count": null,
   "metadata": {},
   "outputs": [],
   "source": []
  },
  {
   "cell_type": "code",
   "execution_count": null,
   "metadata": {},
   "outputs": [],
   "source": []
  },
  {
   "cell_type": "code",
   "execution_count": null,
   "metadata": {},
   "outputs": [],
   "source": []
  },
  {
   "cell_type": "code",
   "execution_count": null,
   "metadata": {},
   "outputs": [],
   "source": []
  },
  {
   "cell_type": "code",
   "execution_count": null,
   "metadata": {},
   "outputs": [],
   "source": []
  },
  {
   "cell_type": "code",
   "execution_count": null,
   "metadata": {},
   "outputs": [],
   "source": []
  },
  {
   "cell_type": "code",
   "execution_count": null,
   "metadata": {},
   "outputs": [],
   "source": []
  },
  {
   "cell_type": "code",
   "execution_count": null,
   "metadata": {},
   "outputs": [],
   "source": []
  },
  {
   "cell_type": "code",
   "execution_count": null,
   "metadata": {},
   "outputs": [],
   "source": []
  },
  {
   "cell_type": "code",
   "execution_count": null,
   "metadata": {},
   "outputs": [],
   "source": []
  },
  {
   "cell_type": "code",
   "execution_count": null,
   "metadata": {},
   "outputs": [],
   "source": []
  },
  {
   "cell_type": "code",
   "execution_count": null,
   "metadata": {},
   "outputs": [],
   "source": []
  },
  {
   "cell_type": "code",
   "execution_count": null,
   "metadata": {},
   "outputs": [],
   "source": []
  },
  {
   "cell_type": "code",
   "execution_count": null,
   "metadata": {},
   "outputs": [],
   "source": []
  },
  {
   "cell_type": "code",
   "execution_count": null,
   "metadata": {},
   "outputs": [],
   "source": []
  },
  {
   "cell_type": "code",
   "execution_count": null,
   "metadata": {},
   "outputs": [],
   "source": []
  }
 ],
 "metadata": {
  "kernelspec": {
   "display_name": "base",
   "language": "python",
   "name": "python3"
  },
  "language_info": {
   "codemirror_mode": {
    "name": "ipython",
    "version": 3
   },
   "file_extension": ".py",
   "mimetype": "text/x-python",
   "name": "python",
   "nbconvert_exporter": "python",
   "pygments_lexer": "ipython3",
   "version": "3.11.7"
  }
 },
 "nbformat": 4,
 "nbformat_minor": 2
}
