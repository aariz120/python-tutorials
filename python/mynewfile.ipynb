{
 "cells": [
  {
   "cell_type": "code",
   "execution_count": 1,
   "metadata": {},
   "outputs": [
    {
     "name": "stdout",
     "output_type": "stream",
     "text": [
      "hello world\n"
     ]
    }
   ],
   "source": [
    "print(\"hello world\")"
   ]
  },
  {
   "cell_type": "code",
   "execution_count": 2,
   "metadata": {},
   "outputs": [
    {
     "name": "stdout",
     "output_type": "stream",
     "text": [
      "7\n"
     ]
    }
   ],
   "source": [
    "print(3+4)"
   ]
  },
  {
   "cell_type": "code",
   "execution_count": 9,
   "metadata": {},
   "outputs": [
    {
     "name": "stdout",
     "output_type": "stream",
     "text": [
      " Temperature (in kelvin unit) = 299.84\n",
      " atmospheric pressure (in hPa unit) = 1008\n",
      " humidity (in percentage) = 66\n",
      " description = broken clouds\n"
     ]
    }
   ],
   "source": [
    "import requests, json\n",
    "\n",
    "api_key = \"f59f27c8afe67b69db6bc53cdd064c02\"\n",
    "\n",
    "\n",
    "base_url = \"http://api.openweathermap.org/data/2.5/weather?\"\n",
    "\n",
    "city_name = input(\"Enter city name : \")\n",
    "\n",
    "complete_url = base_url + \"appid=\" + api_key + \"&q=\" + city_name\n",
    "\n",
    "\n",
    "response = requests.get(complete_url)\n",
    "\n",
    "\n",
    "x = response.json()\n",
    "\n",
    "if x[\"cod\"] != \"404\":\n",
    "\n",
    "\ty = x[\"main\"]\n",
    "\n",
    "\n",
    "\tcurrent_temperature = y[\"temp\"]\n",
    "\n",
    "\n",
    "\tcurrent_pressure = y[\"pressure\"]\n",
    "\n",
    "\n",
    "\tcurrent_humidity = y[\"humidity\"]\n",
    "\n",
    "\tz = x[\"weather\"]\n",
    "\n",
    "\tweather_description = z[0][\"description\"]\n",
    "\n",
    "\t# print following values\n",
    "\tprint(\" Temperature (in kelvin unit) = \" +\n",
    "\t\t\t\t\tstr(current_temperature) +\n",
    "\t\t\"\\n atmospheric pressure (in hPa unit) = \" +\n",
    "\t\t\t\t\tstr(current_pressure) +\n",
    "\t\t\"\\n humidity (in percentage) = \" +\n",
    "\t\t\t\t\tstr(current_humidity) +\n",
    "\t\t\"\\n description = \" +\n",
    "\t\t\t\t\tstr(weather_description))\n",
    "\n",
    "else:\n",
    "\tprint(\" City Not Found \")"
   ]
  },
  {
   "cell_type": "code",
   "execution_count": 10,
   "metadata": {},
   "outputs": [
    {
     "name": "stdout",
     "output_type": "stream",
     "text": [
      "Tutorials\n",
      "Exercises\n",
      "Certificates\n",
      "All Our Services\n",
      "Python Tutorial\n",
      "File Handling\n",
      "Python Modules\n",
      "Python Matplotlib\n",
      "Machine Learning\n",
      "Python MySQL\n",
      "Python MongoDB\n",
      "Python Reference\n",
      "Module Reference\n",
      "Python How To\n",
      "Python Examples\n",
      "Learn Python\n",
      "Learning by Examples\n",
      "Python File Handling\n",
      "Python Database Handling\n",
      "Python Exercises\n",
      "Python Examples\n",
      "Python Quiz\n",
      "My Learning\n",
      "Python Reference\n",
      "Download Python\n",
      "Kickstart your career\n",
      "Contact Sales\n",
      "Report Error\n"
     ]
    }
   ],
   "source": [
    "import requests\n",
    "from bs4 import BeautifulSoup\n",
    "\n",
    "def get_headlines(url):\n",
    "    response = requests.get(url)\n",
    "    soup = BeautifulSoup(response.content, 'html.parser')\n",
    "    headlines = soup.find_all('h2')\n",
    "    \n",
    "    for headline in headlines:\n",
    "        print(headline.text)\n",
    "\n",
    "# Example usage\n",
    "url = \"https://www.w3schools.com/python/\"  # Replace with a real news website\n",
    "get_headlines(url)"
   ]
  },
  {
   "cell_type": "code",
   "execution_count": 11,
   "metadata": {},
   "outputs": [
    {
     "name": "stdout",
     "output_type": "stream",
     "text": [
      "Your score: 1/3\n"
     ]
    }
   ],
   "source": [
    "def quiz_game():\n",
    "    questions = {\n",
    "        \"What is the capital of india?\": \"new delhi\",\n",
    "        \"What is 5+9?\": \"14\",\n",
    "        \"What is the smallest planet in our solar system?\": \"Mercury\"\n",
    "    }\n",
    "    \n",
    "    score = 0\n",
    "    for question, answer in questions.items():\n",
    "        user_answer = input(question + \" \")\n",
    "        if user_answer.lower() == answer.lower():\n",
    "            score += 1\n",
    "    \n",
    "    print(f\"Your score: {score}/{len(questions)}\")\n",
    "\n",
    "quiz_game()"
   ]
  },
  {
   "cell_type": "code",
   "execution_count": null,
   "metadata": {},
   "outputs": [
    {
     "data": {
      "application/vnd.plotly.v1+json": {
       "config": {
        "plotlyServerURL": "https://plot.ly"
       },
       "data": [
        {
         "mode": "lines+markers",
         "type": "scatter",
         "x": [
          1,
          2,
          3,
          4,
          5
         ],
         "y": [
          10,
          11,
          12,
          13,
          43
         ]
        }
       ],
       "layout": {
        "template": {
         "data": {
          "bar": [
           {
            "error_x": {
             "color": "#2a3f5f"
            },
            "error_y": {
             "color": "#2a3f5f"
            },
            "marker": {
             "line": {
              "color": "#E5ECF6",
              "width": 0.5
             },
             "pattern": {
              "fillmode": "overlay",
              "size": 10,
              "solidity": 0.2
             }
            },
            "type": "bar"
           }
          ],
          "barpolar": [
           {
            "marker": {
             "line": {
              "color": "#E5ECF6",
              "width": 0.5
             },
             "pattern": {
              "fillmode": "overlay",
              "size": 10,
              "solidity": 0.2
             }
            },
            "type": "barpolar"
           }
          ],
          "carpet": [
           {
            "aaxis": {
             "endlinecolor": "#2a3f5f",
             "gridcolor": "white",
             "linecolor": "white",
             "minorgridcolor": "white",
             "startlinecolor": "#2a3f5f"
            },
            "baxis": {
             "endlinecolor": "#2a3f5f",
             "gridcolor": "white",
             "linecolor": "white",
             "minorgridcolor": "white",
             "startlinecolor": "#2a3f5f"
            },
            "type": "carpet"
           }
          ],
          "choropleth": [
           {
            "colorbar": {
             "outlinewidth": 0,
             "ticks": ""
            },
            "type": "choropleth"
           }
          ],
          "contour": [
           {
            "colorbar": {
             "outlinewidth": 0,
             "ticks": ""
            },
            "colorscale": [
             [
              0,
              "#0d0887"
             ],
             [
              0.1111111111111111,
              "#46039f"
             ],
             [
              0.2222222222222222,
              "#7201a8"
             ],
             [
              0.3333333333333333,
              "#9c179e"
             ],
             [
              0.4444444444444444,
              "#bd3786"
             ],
             [
              0.5555555555555556,
              "#d8576b"
             ],
             [
              0.6666666666666666,
              "#ed7953"
             ],
             [
              0.7777777777777778,
              "#fb9f3a"
             ],
             [
              0.8888888888888888,
              "#fdca26"
             ],
             [
              1,
              "#f0f921"
             ]
            ],
            "type": "contour"
           }
          ],
          "contourcarpet": [
           {
            "colorbar": {
             "outlinewidth": 0,
             "ticks": ""
            },
            "type": "contourcarpet"
           }
          ],
          "heatmap": [
           {
            "colorbar": {
             "outlinewidth": 0,
             "ticks": ""
            },
            "colorscale": [
             [
              0,
              "#0d0887"
             ],
             [
              0.1111111111111111,
              "#46039f"
             ],
             [
              0.2222222222222222,
              "#7201a8"
             ],
             [
              0.3333333333333333,
              "#9c179e"
             ],
             [
              0.4444444444444444,
              "#bd3786"
             ],
             [
              0.5555555555555556,
              "#d8576b"
             ],
             [
              0.6666666666666666,
              "#ed7953"
             ],
             [
              0.7777777777777778,
              "#fb9f3a"
             ],
             [
              0.8888888888888888,
              "#fdca26"
             ],
             [
              1,
              "#f0f921"
             ]
            ],
            "type": "heatmap"
           }
          ],
          "heatmapgl": [
           {
            "colorbar": {
             "outlinewidth": 0,
             "ticks": ""
            },
            "colorscale": [
             [
              0,
              "#0d0887"
             ],
             [
              0.1111111111111111,
              "#46039f"
             ],
             [
              0.2222222222222222,
              "#7201a8"
             ],
             [
              0.3333333333333333,
              "#9c179e"
             ],
             [
              0.4444444444444444,
              "#bd3786"
             ],
             [
              0.5555555555555556,
              "#d8576b"
             ],
             [
              0.6666666666666666,
              "#ed7953"
             ],
             [
              0.7777777777777778,
              "#fb9f3a"
             ],
             [
              0.8888888888888888,
              "#fdca26"
             ],
             [
              1,
              "#f0f921"
             ]
            ],
            "type": "heatmapgl"
           }
          ],
          "histogram": [
           {
            "marker": {
             "pattern": {
              "fillmode": "overlay",
              "size": 10,
              "solidity": 0.2
             }
            },
            "type": "histogram"
           }
          ],
          "histogram2d": [
           {
            "colorbar": {
             "outlinewidth": 0,
             "ticks": ""
            },
            "colorscale": [
             [
              0,
              "#0d0887"
             ],
             [
              0.1111111111111111,
              "#46039f"
             ],
             [
              0.2222222222222222,
              "#7201a8"
             ],
             [
              0.3333333333333333,
              "#9c179e"
             ],
             [
              0.4444444444444444,
              "#bd3786"
             ],
             [
              0.5555555555555556,
              "#d8576b"
             ],
             [
              0.6666666666666666,
              "#ed7953"
             ],
             [
              0.7777777777777778,
              "#fb9f3a"
             ],
             [
              0.8888888888888888,
              "#fdca26"
             ],
             [
              1,
              "#f0f921"
             ]
            ],
            "type": "histogram2d"
           }
          ],
          "histogram2dcontour": [
           {
            "colorbar": {
             "outlinewidth": 0,
             "ticks": ""
            },
            "colorscale": [
             [
              0,
              "#0d0887"
             ],
             [
              0.1111111111111111,
              "#46039f"
             ],
             [
              0.2222222222222222,
              "#7201a8"
             ],
             [
              0.3333333333333333,
              "#9c179e"
             ],
             [
              0.4444444444444444,
              "#bd3786"
             ],
             [
              0.5555555555555556,
              "#d8576b"
             ],
             [
              0.6666666666666666,
              "#ed7953"
             ],
             [
              0.7777777777777778,
              "#fb9f3a"
             ],
             [
              0.8888888888888888,
              "#fdca26"
             ],
             [
              1,
              "#f0f921"
             ]
            ],
            "type": "histogram2dcontour"
           }
          ],
          "mesh3d": [
           {
            "colorbar": {
             "outlinewidth": 0,
             "ticks": ""
            },
            "type": "mesh3d"
           }
          ],
          "parcoords": [
           {
            "line": {
             "colorbar": {
              "outlinewidth": 0,
              "ticks": ""
             }
            },
            "type": "parcoords"
           }
          ],
          "pie": [
           {
            "automargin": true,
            "type": "pie"
           }
          ],
          "scatter": [
           {
            "fillpattern": {
             "fillmode": "overlay",
             "size": 10,
             "solidity": 0.2
            },
            "type": "scatter"
           }
          ],
          "scatter3d": [
           {
            "line": {
             "colorbar": {
              "outlinewidth": 0,
              "ticks": ""
             }
            },
            "marker": {
             "colorbar": {
              "outlinewidth": 0,
              "ticks": ""
             }
            },
            "type": "scatter3d"
           }
          ],
          "scattercarpet": [
           {
            "marker": {
             "colorbar": {
              "outlinewidth": 0,
              "ticks": ""
             }
            },
            "type": "scattercarpet"
           }
          ],
          "scattergeo": [
           {
            "marker": {
             "colorbar": {
              "outlinewidth": 0,
              "ticks": ""
             }
            },
            "type": "scattergeo"
           }
          ],
          "scattergl": [
           {
            "marker": {
             "colorbar": {
              "outlinewidth": 0,
              "ticks": ""
             }
            },
            "type": "scattergl"
           }
          ],
          "scattermapbox": [
           {
            "marker": {
             "colorbar": {
              "outlinewidth": 0,
              "ticks": ""
             }
            },
            "type": "scattermapbox"
           }
          ],
          "scatterpolar": [
           {
            "marker": {
             "colorbar": {
              "outlinewidth": 0,
              "ticks": ""
             }
            },
            "type": "scatterpolar"
           }
          ],
          "scatterpolargl": [
           {
            "marker": {
             "colorbar": {
              "outlinewidth": 0,
              "ticks": ""
             }
            },
            "type": "scatterpolargl"
           }
          ],
          "scatterternary": [
           {
            "marker": {
             "colorbar": {
              "outlinewidth": 0,
              "ticks": ""
             }
            },
            "type": "scatterternary"
           }
          ],
          "surface": [
           {
            "colorbar": {
             "outlinewidth": 0,
             "ticks": ""
            },
            "colorscale": [
             [
              0,
              "#0d0887"
             ],
             [
              0.1111111111111111,
              "#46039f"
             ],
             [
              0.2222222222222222,
              "#7201a8"
             ],
             [
              0.3333333333333333,
              "#9c179e"
             ],
             [
              0.4444444444444444,
              "#bd3786"
             ],
             [
              0.5555555555555556,
              "#d8576b"
             ],
             [
              0.6666666666666666,
              "#ed7953"
             ],
             [
              0.7777777777777778,
              "#fb9f3a"
             ],
             [
              0.8888888888888888,
              "#fdca26"
             ],
             [
              1,
              "#f0f921"
             ]
            ],
            "type": "surface"
           }
          ],
          "table": [
           {
            "cells": {
             "fill": {
              "color": "#EBF0F8"
             },
             "line": {
              "color": "white"
             }
            },
            "header": {
             "fill": {
              "color": "#C8D4E3"
             },
             "line": {
              "color": "white"
             }
            },
            "type": "table"
           }
          ]
         },
         "layout": {
          "annotationdefaults": {
           "arrowcolor": "#2a3f5f",
           "arrowhead": 0,
           "arrowwidth": 1
          },
          "autotypenumbers": "strict",
          "coloraxis": {
           "colorbar": {
            "outlinewidth": 0,
            "ticks": ""
           }
          },
          "colorscale": {
           "diverging": [
            [
             0,
             "#8e0152"
            ],
            [
             0.1,
             "#c51b7d"
            ],
            [
             0.2,
             "#de77ae"
            ],
            [
             0.3,
             "#f1b6da"
            ],
            [
             0.4,
             "#fde0ef"
            ],
            [
             0.5,
             "#f7f7f7"
            ],
            [
             0.6,
             "#e6f5d0"
            ],
            [
             0.7,
             "#b8e186"
            ],
            [
             0.8,
             "#7fbc41"
            ],
            [
             0.9,
             "#4d9221"
            ],
            [
             1,
             "#276419"
            ]
           ],
           "sequential": [
            [
             0,
             "#0d0887"
            ],
            [
             0.1111111111111111,
             "#46039f"
            ],
            [
             0.2222222222222222,
             "#7201a8"
            ],
            [
             0.3333333333333333,
             "#9c179e"
            ],
            [
             0.4444444444444444,
             "#bd3786"
            ],
            [
             0.5555555555555556,
             "#d8576b"
            ],
            [
             0.6666666666666666,
             "#ed7953"
            ],
            [
             0.7777777777777778,
             "#fb9f3a"
            ],
            [
             0.8888888888888888,
             "#fdca26"
            ],
            [
             1,
             "#f0f921"
            ]
           ],
           "sequentialminus": [
            [
             0,
             "#0d0887"
            ],
            [
             0.1111111111111111,
             "#46039f"
            ],
            [
             0.2222222222222222,
             "#7201a8"
            ],
            [
             0.3333333333333333,
             "#9c179e"
            ],
            [
             0.4444444444444444,
             "#bd3786"
            ],
            [
             0.5555555555555556,
             "#d8576b"
            ],
            [
             0.6666666666666666,
             "#ed7953"
            ],
            [
             0.7777777777777778,
             "#fb9f3a"
            ],
            [
             0.8888888888888888,
             "#fdca26"
            ],
            [
             1,
             "#f0f921"
            ]
           ]
          },
          "colorway": [
           "#636efa",
           "#EF553B",
           "#00cc96",
           "#ab63fa",
           "#FFA15A",
           "#19d3f3",
           "#FF6692",
           "#B6E880",
           "#FF97FF",
           "#FECB52"
          ],
          "font": {
           "color": "#2a3f5f"
          },
          "geo": {
           "bgcolor": "white",
           "lakecolor": "white",
           "landcolor": "#E5ECF6",
           "showlakes": true,
           "showland": true,
           "subunitcolor": "white"
          },
          "hoverlabel": {
           "align": "left"
          },
          "hovermode": "closest",
          "mapbox": {
           "style": "light"
          },
          "paper_bgcolor": "white",
          "plot_bgcolor": "#E5ECF6",
          "polar": {
           "angularaxis": {
            "gridcolor": "white",
            "linecolor": "white",
            "ticks": ""
           },
           "bgcolor": "#E5ECF6",
           "radialaxis": {
            "gridcolor": "white",
            "linecolor": "white",
            "ticks": ""
           }
          },
          "scene": {
           "xaxis": {
            "backgroundcolor": "#E5ECF6",
            "gridcolor": "white",
            "gridwidth": 2,
            "linecolor": "white",
            "showbackground": true,
            "ticks": "",
            "zerolinecolor": "white"
           },
           "yaxis": {
            "backgroundcolor": "#E5ECF6",
            "gridcolor": "white",
            "gridwidth": 2,
            "linecolor": "white",
            "showbackground": true,
            "ticks": "",
            "zerolinecolor": "white"
           },
           "zaxis": {
            "backgroundcolor": "#E5ECF6",
            "gridcolor": "white",
            "gridwidth": 2,
            "linecolor": "white",
            "showbackground": true,
            "ticks": "",
            "zerolinecolor": "white"
           }
          },
          "shapedefaults": {
           "line": {
            "color": "#2a3f5f"
           }
          },
          "ternary": {
           "aaxis": {
            "gridcolor": "white",
            "linecolor": "white",
            "ticks": ""
           },
           "baxis": {
            "gridcolor": "white",
            "linecolor": "white",
            "ticks": ""
           },
           "bgcolor": "#E5ECF6",
           "caxis": {
            "gridcolor": "white",
            "linecolor": "white",
            "ticks": ""
           }
          },
          "title": {
           "x": 0.05
          },
          "xaxis": {
           "automargin": true,
           "gridcolor": "white",
           "linecolor": "white",
           "ticks": "",
           "title": {
            "standoff": 15
           },
           "zerolinecolor": "white",
           "zerolinewidth": 2
          },
          "yaxis": {
           "automargin": true,
           "gridcolor": "white",
           "linecolor": "white",
           "ticks": "",
           "title": {
            "standoff": 15
           },
           "zerolinecolor": "white",
           "zerolinewidth": 2
          }
         }
        },
        "title": {
         "text": "Interactive Line Chart"
        },
        "xaxis": {
         "title": {
          "text": "X Axis"
         }
        },
        "yaxis": {
         "title": {
          "text": "Y Axis"
         }
        }
       }
      }
     },
     "metadata": {},
     "output_type": "display_data"
    }
   ],
   "source": [
    "import plotly.graph_objects as go\n",
    "\n",
    "def create_line_chart(x, y):\n",
    "    fig = go.Figure(data=go.Scatter(x=x, y=y, mode='lines+markers'))\n",
    "    fig.update_layout(title='Interactive Line Chart', xaxis_title='X Axis', yaxis_title='Y Axis')\n",
    "    fig.show()\n",
    "\n",
    "# Example usage\n",
    "x = [1, 2, 3, 4, 5]\n",
    "y = [10, 11, 12, 13, 43]\n",
    "create_line_chart(x, y)"
   ]
  },
  {
   "cell_type": "code",
   "execution_count": 13,
   "metadata": {},
   "outputs": [
    {
     "name": "stdout",
     "output_type": "stream",
     "text": [
      "Collecting pygame\n",
      "  Downloading pygame-2.6.0-cp311-cp311-win_amd64.whl.metadata (13 kB)\n",
      "Downloading pygame-2.6.0-cp311-cp311-win_amd64.whl (10.8 MB)\n",
      "   ---------------------------------------- 0.0/10.8 MB ? eta -:--:--\n",
      "   ---------------------------------------- 0.0/10.8 MB ? eta -:--:--\n",
      "   ---------------------------------------- 0.0/10.8 MB 325.1 kB/s eta 0:00:33\n",
      "   ---------------------------------------- 0.1/10.8 MB 651.6 kB/s eta 0:00:17\n",
      "    --------------------------------------- 0.1/10.8 MB 944.1 kB/s eta 0:00:12\n",
      "   - -------------------------------------- 0.3/10.8 MB 1.4 MB/s eta 0:00:08\n",
      "   - -------------------------------------- 0.4/10.8 MB 1.4 MB/s eta 0:00:08\n",
      "   -- ------------------------------------- 0.6/10.8 MB 2.0 MB/s eta 0:00:05\n",
      "   -- ------------------------------------- 0.8/10.8 MB 2.1 MB/s eta 0:00:05\n",
      "   --- ------------------------------------ 1.0/10.8 MB 2.4 MB/s eta 0:00:05\n",
      "   ---- ----------------------------------- 1.2/10.8 MB 2.8 MB/s eta 0:00:04\n",
      "   ----- ---------------------------------- 1.5/10.8 MB 2.9 MB/s eta 0:00:04\n",
      "   ------ --------------------------------- 1.7/10.8 MB 3.1 MB/s eta 0:00:03\n",
      "   ------- -------------------------------- 1.9/10.8 MB 3.3 MB/s eta 0:00:03\n",
      "   ------- -------------------------------- 2.1/10.8 MB 3.4 MB/s eta 0:00:03\n",
      "   -------- ------------------------------- 2.3/10.8 MB 3.4 MB/s eta 0:00:03\n",
      "   --------- ------------------------------ 2.5/10.8 MB 3.4 MB/s eta 0:00:03\n",
      "   ---------- ----------------------------- 2.7/10.8 MB 3.6 MB/s eta 0:00:03\n",
      "   ----------- ---------------------------- 3.0/10.8 MB 3.7 MB/s eta 0:00:03\n",
      "   ------------ --------------------------- 3.4/10.8 MB 3.9 MB/s eta 0:00:02\n",
      "   ------------- -------------------------- 3.7/10.8 MB 4.0 MB/s eta 0:00:02\n",
      "   -------------- ------------------------- 4.0/10.8 MB 4.1 MB/s eta 0:00:02\n",
      "   --------------- ------------------------ 4.3/10.8 MB 4.2 MB/s eta 0:00:02\n",
      "   ---------------- ----------------------- 4.6/10.8 MB 4.3 MB/s eta 0:00:02\n",
      "   ------------------ --------------------- 4.9/10.8 MB 4.4 MB/s eta 0:00:02\n",
      "   ------------------- -------------------- 5.2/10.8 MB 4.4 MB/s eta 0:00:02\n",
      "   -------------------- ------------------- 5.4/10.8 MB 4.5 MB/s eta 0:00:02\n",
      "   --------------------- ------------------ 5.7/10.8 MB 4.6 MB/s eta 0:00:02\n",
      "   ---------------------- ----------------- 6.0/10.8 MB 4.7 MB/s eta 0:00:02\n",
      "   ----------------------- ---------------- 6.4/10.8 MB 4.8 MB/s eta 0:00:01\n",
      "   ------------------------ --------------- 6.6/10.8 MB 4.7 MB/s eta 0:00:01\n",
      "   ------------------------- -------------- 7.0/10.8 MB 4.8 MB/s eta 0:00:01\n",
      "   --------------------------- ------------ 7.3/10.8 MB 4.8 MB/s eta 0:00:01\n",
      "   ---------------------------- ----------- 7.6/10.8 MB 4.9 MB/s eta 0:00:01\n",
      "   ----------------------------- ---------- 7.9/10.8 MB 5.0 MB/s eta 0:00:01\n",
      "   ------------------------------ --------- 8.2/10.8 MB 5.0 MB/s eta 0:00:01\n",
      "   ------------------------------- -------- 8.4/10.8 MB 4.9 MB/s eta 0:00:01\n",
      "   -------------------------------- ------- 8.8/10.8 MB 5.1 MB/s eta 0:00:01\n",
      "   ---------------------------------- ----- 9.1/10.8 MB 5.1 MB/s eta 0:00:01\n",
      "   ----------------------------------- ---- 9.5/10.8 MB 5.2 MB/s eta 0:00:01\n",
      "   ------------------------------------ --- 9.8/10.8 MB 5.2 MB/s eta 0:00:01\n",
      "   ------------------------------------- -- 10.0/10.8 MB 5.2 MB/s eta 0:00:01\n",
      "   -------------------------------------- - 10.3/10.8 MB 5.5 MB/s eta 0:00:01\n",
      "   ---------------------------------------  10.6/10.8 MB 5.8 MB/s eta 0:00:01\n",
      "   ---------------------------------------  10.7/10.8 MB 5.8 MB/s eta 0:00:01\n",
      "   ---------------------------------------- 10.8/10.8 MB 5.7 MB/s eta 0:00:00\n",
      "Installing collected packages: pygame\n",
      "Successfully installed pygame-2.6.0\n"
     ]
    }
   ],
   "source": [
    "! pip install pygame"
   ]
  },
  {
   "cell_type": "code",
   "execution_count": 1,
   "metadata": {},
   "outputs": [
    {
     "name": "stdout",
     "output_type": "stream",
     "text": [
      "pygame 2.6.0 (SDL 2.28.4, Python 3.11.7)\n",
      "Hello from the pygame community. https://www.pygame.org/contribute.html\n"
     ]
    },
    {
     "ename": "error",
     "evalue": "display Surface quit",
     "output_type": "error",
     "traceback": [
      "\u001b[1;31m---------------------------------------------------------------------------\u001b[0m",
      "\u001b[1;31merror\u001b[0m                                     Traceback (most recent call last)",
      "Cell \u001b[1;32mIn[1], line 116\u001b[0m\n\u001b[0;32m    113\u001b[0m     pygame\u001b[38;5;241m.\u001b[39mquit()\n\u001b[0;32m    114\u001b[0m     quit()\n\u001b[1;32m--> 116\u001b[0m gameLoop()\n",
      "Cell \u001b[1;32mIn[1], line 56\u001b[0m, in \u001b[0;36mgameLoop\u001b[1;34m()\u001b[0m\n\u001b[0;32m     53\u001b[0m \u001b[38;5;28;01mwhile\u001b[39;00m \u001b[38;5;129;01mnot\u001b[39;00m game_over:\n\u001b[0;32m     55\u001b[0m     \u001b[38;5;28;01mwhile\u001b[39;00m game_close \u001b[38;5;241m==\u001b[39m \u001b[38;5;28;01mTrue\u001b[39;00m:\n\u001b[1;32m---> 56\u001b[0m         screen\u001b[38;5;241m.\u001b[39mfill(BLACK)\n\u001b[0;32m     57\u001b[0m         message(\u001b[38;5;124m\"\u001b[39m\u001b[38;5;124mYou Lost! Press Q-Quit or C-Play Again\u001b[39m\u001b[38;5;124m\"\u001b[39m, RED)\n\u001b[0;32m     58\u001b[0m         pygame\u001b[38;5;241m.\u001b[39mdisplay\u001b[38;5;241m.\u001b[39mupdate()\n",
      "\u001b[1;31merror\u001b[0m: display Surface quit"
     ]
    },
    {
     "ename": "",
     "evalue": "",
     "output_type": "error",
     "traceback": [
      "\u001b[1;31mThe Kernel crashed while executing code in the current cell or a previous cell. \n",
      "\u001b[1;31mPlease review the code in the cell(s) to identify a possible cause of the failure. \n",
      "\u001b[1;31mClick <a href='https://aka.ms/vscodeJupyterKernelCrash'>here</a> for more info. \n",
      "\u001b[1;31mView Jupyter <a href='command:jupyter.viewOutput'>log</a> for further details."
     ]
    }
   ],
   "source": [
    "\n",
    "\n",
    "import pygame\n",
    "import time\n",
    "import random\n",
    "\n",
    "# Initialize Pygame\n",
    "pygame.init()\n",
    "\n",
    "# Define colors\n",
    "WHITE = (255, 255, 255)\n",
    "BLACK = (0, 0, 0)\n",
    "GREEN = (0, 255, 0)\n",
    "RED = (255, 0, 0)\n",
    "\n",
    "# Define screen dimensions\n",
    "SCREEN_WIDTH = 600\n",
    "SCREEN_HEIGHT = 400\n",
    "BLOCK_SIZE = 20\n",
    "\n",
    "# Create the screen\n",
    "screen = pygame.display.set_mode((SCREEN_WIDTH, SCREEN_HEIGHT))\n",
    "pygame.display.set_caption(\"Snake Game\")\n",
    "\n",
    "# Clock for controlling the speed of the snake\n",
    "clock = pygame.time.Clock()\n",
    "snake_speed = 10\n",
    "\n",
    "# Define the snake and food\n",
    "def our_snake(block_size, snake_list):\n",
    "    for x in snake_list:\n",
    "        pygame.draw.rect(screen, GREEN, [x[0], x[1], block_size, block_size])\n",
    "\n",
    "def message(msg, color):\n",
    "    font = pygame.font.SysFont(None, 35)\n",
    "    mesg = font.render(msg, True, color)\n",
    "    screen.blit(mesg, [SCREEN_WIDTH / 6, SCREEN_HEIGHT / 3])\n",
    "\n",
    "def gameLoop():\n",
    "    game_over = False\n",
    "    game_close = False\n",
    "\n",
    "    x1 = SCREEN_WIDTH / 2\n",
    "    y1 = SCREEN_HEIGHT / 2\n",
    "\n",
    "    x1_change = 0\n",
    "    y1_change = 0\n",
    "\n",
    "    snake_List = []\n",
    "    Length_of_snake = 1\n",
    "\n",
    "    foodx = round(random.randrange(0, SCREEN_WIDTH - BLOCK_SIZE) / 20.0) * 20.0\n",
    "    foody = round(random.randrange(0, SCREEN_HEIGHT - BLOCK_SIZE) / 20.0) * 20.0\n",
    "\n",
    "    while not game_over:\n",
    "\n",
    "        while game_close == True:\n",
    "            screen.fill(BLACK)\n",
    "            message(\"You Lost! Press Q-Quit or C-Play Again\", RED)\n",
    "            pygame.display.update()\n",
    "\n",
    "            for event in pygame.event.get():\n",
    "                if event.type == pygame.KEYDOWN:\n",
    "                    if event.key == pygame.K_q:\n",
    "                        game_over = True\n",
    "                        game_close = False\n",
    "                    if event.key == pygame.K_c:\n",
    "                        gameLoop()\n",
    "\n",
    "        for event in pygame.event.get():\n",
    "            if event.type == pygame.QUIT:\n",
    "                game_over = True\n",
    "            if event.type == pygame.KEYDOWN:\n",
    "                if event.key == pygame.K_LEFT:\n",
    "                    x1_change = -BLOCK_SIZE\n",
    "                    y1_change = 0\n",
    "                elif event.key == pygame.K_RIGHT:\n",
    "                    x1_change = BLOCK_SIZE\n",
    "                    y1_change = 0\n",
    "                elif event.key == pygame.K_UP:\n",
    "                    y1_change = -BLOCK_SIZE\n",
    "                    x1_change = 0\n",
    "                elif event.key == pygame.K_DOWN:\n",
    "                    y1_change = BLOCK_SIZE\n",
    "                    x1_change = 0\n",
    "\n",
    "        if x1 >= SCREEN_WIDTH or x1 < 0 or y1 >= SCREEN_HEIGHT or y1 < 0:\n",
    "            game_close = True\n",
    "        x1 += x1_change\n",
    "        y1 += y1_change\n",
    "        screen.fill(BLACK)\n",
    "        pygame.draw.rect(screen, RED, [foodx, foody, BLOCK_SIZE, BLOCK_SIZE])\n",
    "        snake_Head = []\n",
    "        snake_Head.append(x1)\n",
    "        snake_Head.append(y1)\n",
    "        snake_List.append(snake_Head)\n",
    "        if len(snake_List) > Length_of_snake:\n",
    "            del snake_List[0]\n",
    "\n",
    "        for x in snake_List[:-1]:\n",
    "            if x == snake_Head:\n",
    "                game_close = True\n",
    "\n",
    "        our_snake(BLOCK_SIZE, snake_List)\n",
    "\n",
    "        pygame.display.update()\n",
    "\n",
    "        if x1 == foodx and y1 == foody:\n",
    "            foodx = round(random.randrange(0, SCREEN_WIDTH - BLOCK_SIZE) / 20.0) * 20.0\n",
    "            foody = round(random.randrange(0, SCREEN_HEIGHT - BLOCK_SIZE) / 20.0) * 20.0\n",
    "            Length_of_snake += 1\n",
    "\n",
    "        clock.tick(snake_speed)\n",
    "\n",
    "    pygame.quit()\n",
    "    quit()\n",
    "\n",
    "gameLoop()"
   ]
  },
  {
   "cell_type": "code",
   "execution_count": 1,
   "metadata": {},
   "outputs": [
    {
     "data": {
      "image/png": "[encoded data removed]",
      "text/plain": [
       "<Figure size 800x400 with 1 Axes>"
      ]
     },
     "metadata": {},
     "output_type": "display_data"
    }
   ],
   "source": [
    "import pandas as pd\n",
    "from pandas.plotting import table\n",
    "import matplotlib.pyplot as plt\n",
    "\n",
    "# Create sample data\n",
    "data = {'Name': ['Rakshu', 'Eesha', 'Reihaan'], 'Sales': [1500, 2300, 1800]}\n",
    "df = pd.DataFrame(data)\n",
    "\n",
    "# Save to Excel\n",
    "with pd.ExcelWriter('report.xlsx') as writer:\n",
    "    df.to_excel(writer, sheet_name='Sales Report', index=False)\n",
    "\n",
    "# Generate PDF report with tables\n",
    "fig, ax = plt.subplots(figsize=(8, 4))  # set size frame\n",
    "ax.axis('off')\n",
    "tbl = table(ax, df, loc='center', colWidths=[0.2]*len(df.columns))\n",
    "tbl.auto_set_font_size(False)\n",
    "tbl.set_fontsize(10)\n",
    "tbl.scale(1.2, 1.2)\n",
    "plt.savefig('report.pdf', bbox_inches='tight')"
   ]
  },
  {
   "cell_type": "code",
   "execution_count": 3,
   "metadata": {},
   "outputs": [
    {
     "data": {
      "image/png": "[encoded data removed]",
      "text/plain": [
       "<Figure size 640x480 with 1 Axes>"
      ]
     },
     "metadata": {},
     "output_type": "display_data"
    }
   ],
   "source": [
    "#line plot\n",
    "import matplotlib.pyplot as plt\n",
    "#data\n",
    "x=[1,2,3,4,5,6]\n",
    "y=[2,3,5,7,9,11]\n",
    "\n",
    "# create the plot\n",
    "plt.plot(x,y)\n",
    "\n",
    "# Add labels and Titles\n",
    "plt.xlabel('x-axis')\n",
    "plt.ylabel('y-axis')\n",
    "plt.title('simple line plot')\n",
    "\n",
    "# show plot\n",
    "plt.show()"
   ]
  },
  {
   "cell_type": "code",
   "execution_count": 7,
   "metadata": {},
   "outputs": [
    {
     "data": {
      "image/png": "[encoded data removed]",
      "text/plain": [
       "<Figure size 640x480 with 1 Axes>"
      ]
     },
     "metadata": {},
     "output_type": "display_data"
    }
   ],
   "source": [
    "#Bar plot\n",
    "import matplotlib.pyplot as plt\n",
    "#data\n",
    "categories=['A','B','C','D']\n",
    "values =[5,7,3,8]\n",
    "\n",
    "#create the plot\n",
    "plt.bar(categories,values)\n",
    "\n",
    "# Add labels and titles\n",
    "plt.xlabel('Categories')\n",
    "plt.ylabel('values')\n",
    "plt.title('Simple Bar Plot')\n",
    "\n",
    "#show the plot\n",
    "plt.show()\n"
   ]
  },
  {
   "cell_type": "code",
   "execution_count": 8,
   "metadata": {},
   "outputs": [
    {
     "data": {
      "image/png": "[encoded data removed]",
      "text/plain": [
       "<Figure size 640x480 with 1 Axes>"
      ]
     },
     "metadata": {},
     "output_type": "display_data"
    }
   ],
   "source": [
    "#scatter plot\n",
    "import matplotlib.pyplot as plt\n",
    "#data\n",
    "x=[1,2,3,4,5,6]\n",
    "y=[2,3,5,7,9,11]\n",
    "\n",
    "# create the plot\n",
    "plt.scatter(x,y)\n",
    "\n",
    "# Add labels and Titles\n",
    "plt.xlabel('x-axis')\n",
    "plt.ylabel('y-axis')\n",
    "plt.title('simple scatter plot')\n",
    "\n",
    "# show plot\n",
    "plt.show()"
   ]
  },
  {
   "cell_type": "code",
   "execution_count": 9,
   "metadata": {},
   "outputs": [
    {
     "data": {
      "image/png": "[encoded data removed]",
      "text/plain": [
       "<Figure size 640x480 with 1 Axes>"
      ]
     },
     "metadata": {},
     "output_type": "display_data"
    }
   ],
   "source": [
    "#Histogram\n",
    "import matplotlib.pyplot as plt\n",
    "# data\n",
    "data=[1,2,2,3,3,4,4,4,5,5,5,6,6,7,7,7,3,3]\n",
    "# create plot\n",
    "plt.hist(data,bins=7)\n",
    "\n",
    "#Add labels nad title\n",
    "plt.xlabel('values')\n",
    "plt.ylabel('frequency')\n",
    "plt.title('simple histogram')\n",
    "\n",
    "# show the plot\n",
    "plt.show()\n",
    "\n"
   ]
  },
  {
   "cell_type": "code",
   "execution_count": 10,
   "metadata": {},
   "outputs": [
    {
     "data": {
      "image/png": "[encoded data removed]",
      "text/plain": [
       "<Figure size 640x480 with 1 Axes>"
      ]
     },
     "metadata": {},
     "output_type": "display_data"
    }
   ],
   "source": [
    "#pie chart\n",
    "import matplotlib.pyplot as plt\n",
    "# data\n",
    "labels=['A','B','C','D']\n",
    "sizes= [15,30,45,10]\n",
    "colors=['gold','yellowgreen','lightcoral','lightskyblue']\n",
    "explode=[0.1,0,0,0] #explode 1st slice\n",
    "\n",
    "plt.pie(sizes,explode=explode,labels=labels,colors=colors,autopct='%1.1f%%', shadow=True, startangle=140)\n",
    "\n",
    "plt.axis=('equal')\n",
    "\n",
    "plt.title=('simple pie chart')\n",
    "\n",
    "#show the plot\n",
    "plt.show()"
   ]
  },
  {
   "cell_type": "code",
   "execution_count": null,
   "metadata": {},
   "outputs": [],
   "source": []
  }
 ],
 "metadata": {
  "kernelspec": {
   "display_name": "base",
   "language": "python",
   "name": "python3"
  },
  "language_info": {
   "codemirror_mode": {
    "name": "ipython",
    "version": 3
   },
   "file_extension": ".py",
   "mimetype": "text/x-python",
   "name": "python",
   "nbconvert_exporter": "python",
   "pygments_lexer": "ipython3",
   "version": "3.11.7"
  }
 },
 "nbformat": 4,
 "nbformat_minor": 2
}
