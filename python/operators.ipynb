{
 "cells": [
  {
   "cell_type": "code",
   "execution_count": 1,
   "metadata": {},
   "outputs": [
    {
     "name": "stdout",
     "output_type": "stream",
     "text": [
      "love you eesha\n"
     ]
    }
   ],
   "source": [
    "print(\"love you eesha\")"
   ]
  },
  {
   "cell_type": "markdown",
   "metadata": {},
   "source": [
    "## Arithmatic Operators"
   ]
  },
  {
   "cell_type": "code",
   "execution_count": 2,
   "metadata": {},
   "outputs": [
    {
     "data": {
      "text/plain": [
       "7"
      ]
     },
     "execution_count": 2,
     "metadata": {},
     "output_type": "execute_result"
    }
   ],
   "source": [
    "# sum\n",
    "a=5\n",
    "b=2\n",
    "a+b\n"
   ]
  },
  {
   "cell_type": "code",
   "execution_count": 3,
   "metadata": {},
   "outputs": [
    {
     "data": {
      "text/plain": [
       "3"
      ]
     },
     "execution_count": 3,
     "metadata": {},
     "output_type": "execute_result"
    }
   ],
   "source": [
    "a-b"
   ]
  },
  {
   "cell_type": "code",
   "execution_count": 4,
   "metadata": {},
   "outputs": [
    {
     "data": {
      "text/plain": [
       "10"
      ]
     },
     "execution_count": 4,
     "metadata": {},
     "output_type": "execute_result"
    }
   ],
   "source": [
    "a*b"
   ]
  },
  {
   "cell_type": "code",
   "execution_count": 5,
   "metadata": {},
   "outputs": [
    {
     "data": {
      "text/plain": [
       "2.5"
      ]
     },
     "execution_count": 5,
     "metadata": {},
     "output_type": "execute_result"
    }
   ],
   "source": [
    "a/b"
   ]
  },
  {
   "cell_type": "code",
   "execution_count": 6,
   "metadata": {},
   "outputs": [
    {
     "data": {
      "text/plain": [
       "2"
      ]
     },
     "execution_count": 6,
     "metadata": {},
     "output_type": "execute_result"
    }
   ],
   "source": [
    "# floor division\n",
    "a//b"
   ]
  },
  {
   "cell_type": "code",
   "execution_count": 7,
   "metadata": {},
   "outputs": [
    {
     "data": {
      "text/plain": [
       "1"
      ]
     },
     "execution_count": 7,
     "metadata": {},
     "output_type": "execute_result"
    }
   ],
   "source": [
    "# Modulus\n",
    "a%b"
   ]
  },
  {
   "cell_type": "code",
   "execution_count": 8,
   "metadata": {},
   "outputs": [
    {
     "data": {
      "text/plain": [
       "25"
      ]
     },
     "execution_count": 8,
     "metadata": {},
     "output_type": "execute_result"
    }
   ],
   "source": [
    "# exponential operators\n",
    "a**b"
   ]
  },
  {
   "cell_type": "markdown",
   "metadata": {},
   "source": [
    "## Assignment Operators"
   ]
  },
  {
   "cell_type": "code",
   "execution_count": 9,
   "metadata": {},
   "outputs": [],
   "source": [
    "a=5\n",
    "a+=1"
   ]
  },
  {
   "cell_type": "code",
   "execution_count": 10,
   "metadata": {},
   "outputs": [
    {
     "data": {
      "text/plain": [
       "6"
      ]
     },
     "execution_count": 10,
     "metadata": {},
     "output_type": "execute_result"
    }
   ],
   "source": [
    "a"
   ]
  },
  {
   "cell_type": "code",
   "execution_count": 11,
   "metadata": {},
   "outputs": [],
   "source": [
    "a-=1"
   ]
  },
  {
   "cell_type": "code",
   "execution_count": 12,
   "metadata": {},
   "outputs": [
    {
     "data": {
      "text/plain": [
       "5"
      ]
     },
     "execution_count": 12,
     "metadata": {},
     "output_type": "execute_result"
    }
   ],
   "source": [
    "a"
   ]
  },
  {
   "cell_type": "markdown",
   "metadata": {},
   "source": [
    "# comparison operators"
   ]
  },
  {
   "cell_type": "code",
   "execution_count": 13,
   "metadata": {},
   "outputs": [
    {
     "data": {
      "text/plain": [
       "'\\na==b\\na!=b\\na<b\\na<=b\\na>b\\n'"
      ]
     },
     "execution_count": 13,
     "metadata": {},
     "output_type": "execute_result"
    }
   ],
   "source": [
    "\n",
    "\"\"\"\n",
    "a==b\n",
    "a!=b\n",
    "a<b\n",
    "a<=b\n",
    "a>b\n",
    "a>=b\n",
    "\"\"\""
   ]
  },
  {
   "cell_type": "code",
   "execution_count": 14,
   "metadata": {},
   "outputs": [
    {
     "data": {
      "text/plain": [
       "False"
      ]
     },
     "execution_count": 14,
     "metadata": {},
     "output_type": "execute_result"
    }
   ],
   "source": [
    "a=5\n",
    "b=6\n",
    "a>b"
   ]
  },
  {
   "cell_type": "code",
   "execution_count": 15,
   "metadata": {},
   "outputs": [
    {
     "data": {
      "text/plain": [
       "True"
      ]
     },
     "execution_count": 15,
     "metadata": {},
     "output_type": "execute_result"
    }
   ],
   "source": [
    "a<b"
   ]
  },
  {
   "cell_type": "code",
   "execution_count": 16,
   "metadata": {},
   "outputs": [
    {
     "data": {
      "text/plain": [
       "False"
      ]
     },
     "execution_count": 16,
     "metadata": {},
     "output_type": "execute_result"
    }
   ],
   "source": [
    "a>=b"
   ]
  },
  {
   "cell_type": "code",
   "execution_count": 17,
   "metadata": {},
   "outputs": [
    {
     "data": {
      "text/plain": [
       "True"
      ]
     },
     "execution_count": 17,
     "metadata": {},
     "output_type": "execute_result"
    }
   ],
   "source": [
    "a<=b"
   ]
  },
  {
   "cell_type": "code",
   "execution_count": 18,
   "metadata": {},
   "outputs": [
    {
     "data": {
      "text/plain": [
       "True"
      ]
     },
     "execution_count": 18,
     "metadata": {},
     "output_type": "execute_result"
    }
   ],
   "source": [
    "a!=b"
   ]
  },
  {
   "cell_type": "code",
   "execution_count": 19,
   "metadata": {},
   "outputs": [
    {
     "data": {
      "text/plain": [
       "True"
      ]
     },
     "execution_count": 19,
     "metadata": {},
     "output_type": "execute_result"
    }
   ],
   "source": [
    "a=5\n",
    "b=8\n",
    "c=9\n",
    "a+b>c"
   ]
  },
  {
   "cell_type": "code",
   "execution_count": 20,
   "metadata": {},
   "outputs": [
    {
     "data": {
      "text/plain": [
       "True"
      ]
     },
     "execution_count": 20,
     "metadata": {},
     "output_type": "execute_result"
    }
   ],
   "source": [
    "a+b>=c"
   ]
  },
  {
   "cell_type": "code",
   "execution_count": 22,
   "metadata": {},
   "outputs": [
    {
     "data": {
      "text/plain": [
       "False"
      ]
     },
     "execution_count": 22,
     "metadata": {},
     "output_type": "execute_result"
    }
   ],
   "source": [
    "a+b<=c"
   ]
  },
  {
   "cell_type": "markdown",
   "metadata": {},
   "source": [
    "## Logical and bitwise operators"
   ]
  },
  {
   "cell_type": "code",
   "execution_count": 23,
   "metadata": {},
   "outputs": [],
   "source": [
    "#And\n",
    "#or\n",
    "#not\n"
   ]
  },
  {
   "cell_type": "code",
   "execution_count": 24,
   "metadata": {},
   "outputs": [
    {
     "data": {
      "text/plain": [
       "True"
      ]
     },
     "execution_count": 24,
     "metadata": {},
     "output_type": "execute_result"
    }
   ],
   "source": [
    "a>3 and b>3"
   ]
  },
  {
   "cell_type": "code",
   "execution_count": 27,
   "metadata": {},
   "outputs": [
    {
     "data": {
      "text/plain": [
       "False"
      ]
     },
     "execution_count": 27,
     "metadata": {},
     "output_type": "execute_result"
    }
   ],
   "source": [
    "a>3 and b>10"
   ]
  },
  {
   "cell_type": "code",
   "execution_count": 28,
   "metadata": {},
   "outputs": [
    {
     "data": {
      "text/plain": [
       "True"
      ]
     },
     "execution_count": 28,
     "metadata": {},
     "output_type": "execute_result"
    }
   ],
   "source": [
    "a>3 or b>10"
   ]
  },
  {
   "cell_type": "code",
   "execution_count": 30,
   "metadata": {},
   "outputs": [
    {
     "data": {
      "text/plain": [
       "2"
      ]
     },
     "execution_count": 30,
     "metadata": {},
     "output_type": "execute_result"
    }
   ],
   "source": [
    "a=2\n",
    "b=3\n",
    "\n",
    "a&b"
   ]
  },
  {
   "cell_type": "code",
   "execution_count": 31,
   "metadata": {},
   "outputs": [
    {
     "data": {
      "text/plain": [
       "3"
      ]
     },
     "execution_count": 31,
     "metadata": {},
     "output_type": "execute_result"
    }
   ],
   "source": [
    "a|b"
   ]
  },
  {
   "cell_type": "code",
   "execution_count": 32,
   "metadata": {},
   "outputs": [
    {
     "data": {
      "text/plain": [
       "5"
      ]
     },
     "execution_count": 32,
     "metadata": {},
     "output_type": "execute_result"
    }
   ],
   "source": [
    "a=5\n",
    "b=7\n",
    "a&b"
   ]
  },
  {
   "cell_type": "code",
   "execution_count": 34,
   "metadata": {},
   "outputs": [
    {
     "data": {
      "text/plain": [
       "7"
      ]
     },
     "execution_count": 34,
     "metadata": {},
     "output_type": "execute_result"
    }
   ],
   "source": [
    "a|b"
   ]
  },
  {
   "cell_type": "markdown",
   "metadata": {},
   "source": [
    "# Identity and membership"
   ]
  },
  {
   "cell_type": "code",
   "execution_count": 36,
   "metadata": {},
   "outputs": [
    {
     "data": {
      "text/plain": [
       "True"
      ]
     },
     "execution_count": 36,
     "metadata": {},
     "output_type": "execute_result"
    }
   ],
   "source": [
    "a=5\n",
    "b=5\n",
    "a is b"
   ]
  },
  {
   "cell_type": "code",
   "execution_count": 37,
   "metadata": {},
   "outputs": [
    {
     "data": {
      "text/plain": [
       "True"
      ]
     },
     "execution_count": 37,
     "metadata": {},
     "output_type": "execute_result"
    }
   ],
   "source": [
    "a=\"rakshu\"\n",
    "b=\"rakshu\"\n",
    "a is b"
   ]
  },
  {
   "cell_type": "code",
   "execution_count": 39,
   "metadata": {},
   "outputs": [
    {
     "data": {
      "text/plain": [
       "False"
      ]
     },
     "execution_count": 39,
     "metadata": {},
     "output_type": "execute_result"
    }
   ],
   "source": [
    "a=[1,2,3,4,5,6,7]\n",
    "b=[1,2,3,4,5,6,7]\n",
    "\n",
    "a is b"
   ]
  },
  {
   "cell_type": "code",
   "execution_count": 40,
   "metadata": {},
   "outputs": [
    {
     "data": {
      "text/plain": [
       "True"
      ]
     },
     "execution_count": 40,
     "metadata": {},
     "output_type": "execute_result"
    }
   ],
   "source": [
    "a is not b"
   ]
  },
  {
   "cell_type": "code",
   "execution_count": 41,
   "metadata": {},
   "outputs": [],
   "source": [
    "a=\"Aariz\""
   ]
  },
  {
   "cell_type": "code",
   "execution_count": 43,
   "metadata": {},
   "outputs": [
    {
     "name": "stdout",
     "output_type": "stream",
     "text": [
      "True\n"
     ]
    }
   ],
   "source": [
    "print(\"r\" in a)"
   ]
  },
  {
   "cell_type": "code",
   "execution_count": 45,
   "metadata": {},
   "outputs": [
    {
     "name": "stdout",
     "output_type": "stream",
     "text": [
      "True\n"
     ]
    }
   ],
   "source": [
    "l=[1,2,3,4,5,6,7,]\n",
    "print(7 in l)"
   ]
  },
  {
   "cell_type": "code",
   "execution_count": 46,
   "metadata": {},
   "outputs": [
    {
     "name": "stdout",
     "output_type": "stream",
     "text": [
      "False\n"
     ]
    }
   ],
   "source": [
    "l=[1,2,3,4,5,6,7,]\n",
    "print(7  not in l)"
   ]
  },
  {
   "cell_type": "markdown",
   "metadata": {},
   "source": [
    "## Conditional statement"
   ]
  },
  {
   "cell_type": "code",
   "execution_count": 1,
   "metadata": {},
   "outputs": [
    {
     "name": "stdout",
     "output_type": "stream",
     "text": [
      "condition is not true\n"
     ]
    }
   ],
   "source": [
    "a=5\n",
    "if a>5:\n",
    "    print(\"a is greater than 5\")\n",
    "else:\n",
    "    print(\"condition is not true\")\n"
   ]
  },
  {
   "cell_type": "code",
   "execution_count": 3,
   "metadata": {},
   "outputs": [
    {
     "name": "stdout",
     "output_type": "stream",
     "text": [
      "a is greater than 5\n"
     ]
    }
   ],
   "source": [
    "a=9\n",
    "if a>7:\n",
    "    print(\"a is greater than 5\")\n",
    "else:\n",
    "    print(\"condition is not true\")\n"
   ]
  },
  {
   "cell_type": "code",
   "execution_count": 4,
   "metadata": {},
   "outputs": [
    {
     "name": "stdout",
     "output_type": "stream",
     "text": [
      "a is equal to 4\n"
     ]
    }
   ],
   "source": [
    "a=4\n",
    "if a>5: #1\n",
    "    print(\"a is greater than 5\")\n",
    "    \n",
    "elif a==4: #2\n",
    "    print(\"a is equal to 4\")\n",
    "elif a==3: # 3\n",
    "    print(\"a is equal to 3\")\n",
    "elif a==2: #4\n",
    "    print(\"a is equal to 2\")\n",
    "    \n",
    "else:\n",
    "    print(\"condition is not true\")"
   ]
  },
  {
   "cell_type": "code",
   "execution_count": 6,
   "metadata": {},
   "outputs": [
    {
     "name": "stdout",
     "output_type": "stream",
     "text": [
      "condition is not true\n"
     ]
    }
   ],
   "source": [
    "a=1\n",
    "if a>5: #1\n",
    "    print(\"a is greater than 5\")\n",
    "    \n",
    "elif a==4: #2\n",
    "    print(\"a is equal to 4\")\n",
    "elif a==3: # 3\n",
    "    print(\"a is equal to 3\")\n",
    "elif a==2: #4\n",
    "    print(\"a is equal to 2\")\n",
    "    \n",
    "else:\n",
    "    print(\"condition is not true\")"
   ]
  },
  {
   "cell_type": "code",
   "execution_count": 1,
   "metadata": {},
   "outputs": [
    {
     "name": "stdout",
     "output_type": "stream",
     "text": [
      "Apple is in the list\n",
      "orange is not in the list\n"
     ]
    }
   ],
   "source": [
    "fruits=[\"apple\",\"banana\",\"cherry\"]\n",
    "if \"apple\" in fruits:\n",
    "    print(\"Apple is in the list\")\n",
    "if \"orange\" not in fruits:\n",
    "    print(\"orange is not in the list\")\n",
    "else:\n",
    "    print(\"apple is not in the list\")"
   ]
  },
  {
   "cell_type": "markdown",
   "metadata": {},
   "source": [
    "## Nested if else"
   ]
  },
  {
   "cell_type": "code",
   "execution_count": 13,
   "metadata": {},
   "outputs": [
    {
     "name": "stdout",
     "output_type": "stream",
     "text": [
      "a is greater than 5\n",
      "a is equal to 3\n",
      "condition is not true\n"
     ]
    }
   ],
   "source": [
    "a=3\n",
    "if a>1: #1\n",
    "    print(\"a is greater than 5\")\n",
    "    if a==4:\n",
    "        print(\"a is equal to 4\")\n",
    "\n",
    "    elif a==3:\n",
    "        print(\"a is equal to 3\")\n",
    "        if a==2:\n",
    "            print(\"a is equal to 2\")\n",
    "        else:\n",
    "            print(\"condition is not true\")\n",
    "    \n",
    "    else:\n",
    "        print(\"a is not equal to 4\")\n",
    "           \n",
    "    \n",
    "\n",
    "    \n",
    "else:\n",
    "    print(\"condition is not true\")"
   ]
  },
  {
   "cell_type": "code",
   "execution_count": 16,
   "metadata": {},
   "outputs": [
    {
     "name": "stdout",
     "output_type": "stream",
     "text": [
      "x is greater than 5 or y is less than 10\n"
     ]
    }
   ],
   "source": [
    "x=10\n",
    "y=5\n",
    "if x>15 and y<10:\n",
    "    print(\"x is greater than 5 and y is less than 10\")\n",
    "elif x>5 or y <10:\n",
    "    print(\"x is greater than 5 or y is less than 10\")\n",
    "\n",
    "else:\n",
    "    print(\"x is not greater than 5 and y is not less than 10\")"
   ]
  },
  {
   "cell_type": "code",
   "execution_count": 18,
   "metadata": {},
   "outputs": [
    {
     "name": "stdout",
     "output_type": "stream",
     "text": [
      "x is not greater than 5 and y is not less than 10\n"
     ]
    }
   ],
   "source": [
    "x=10\n",
    "y=5\n",
    "if x>15 and y<1:\n",
    "    print(\"x is greater than 5 and y is less than 10\")\n",
    "elif x>15 or y <1:\n",
    "    print(\"x is greater than 5 or y is less than 10\")\n",
    "\n",
    "else:\n",
    "    print(\"x is not greater than 5 and y is not less than 10\")"
   ]
  },
  {
   "cell_type": "code",
   "execution_count": 19,
   "metadata": {},
   "outputs": [
    {
     "name": "stdout",
     "output_type": "stream",
     "text": [
      "x is greater tha 5\n"
     ]
    }
   ],
   "source": [
    "x=10\n",
    "message=\"x is greater tha 5\" if x>5 else \"x is less than 5\"\n",
    "print(message)\n"
   ]
  },
  {
   "cell_type": "code",
   "execution_count": 22,
   "metadata": {},
   "outputs": [
    {
     "name": "stdout",
     "output_type": "stream",
     "text": [
      "x is less than 0\n"
     ]
    }
   ],
   "source": [
    "def add(x):\n",
    "    if x >5:\n",
    "        print(\"x is greater than 0\")\n",
    "    else:\n",
    "        print(\"x is less than 0\")\n",
    "\n",
    "add(2)"
   ]
  },
  {
   "cell_type": "code",
   "execution_count": 25,
   "metadata": {},
   "outputs": [
    {
     "name": "stdout",
     "output_type": "stream",
     "text": [
      "x is less than 5\n"
     ]
    }
   ],
   "source": [
    "x=5\n",
    "if x>5:\n",
    "    pass\n",
    "else:\n",
    "    print(\"x is less than 5\")"
   ]
  },
  {
   "cell_type": "code",
   "execution_count": 3,
   "metadata": {},
   "outputs": [
    {
     "ename": "AssertionError",
     "evalue": "x is not 5",
     "output_type": "error",
     "traceback": [
      "\u001b[1;31m---------------------------------------------------------------------------\u001b[0m",
      "\u001b[1;31mAssertionError\u001b[0m                            Traceback (most recent call last)",
      "Cell \u001b[1;32mIn[3], line 2\u001b[0m\n\u001b[0;32m      1\u001b[0m x\u001b[38;5;241m=\u001b[39m\u001b[38;5;241m4\u001b[39m\n\u001b[1;32m----> 2\u001b[0m \u001b[38;5;28;01massert\u001b[39;00m x\u001b[38;5;241m==\u001b[39m\u001b[38;5;241m5\u001b[39m , \u001b[38;5;124m\"\u001b[39m\u001b[38;5;124mx is not 5\u001b[39m\u001b[38;5;124m\"\u001b[39m\n",
      "\u001b[1;31mAssertionError\u001b[0m: x is not 5"
     ]
    }
   ],
   "source": [
    "x=4\n",
    "assert x==5 , \"x is not 5\""
   ]
  },
  {
   "cell_type": "markdown",
   "metadata": {},
   "source": [
    "## practice question"
   ]
  },
  {
   "cell_type": "code",
   "execution_count": 4,
   "metadata": {},
   "outputs": [
    {
     "name": "stdout",
     "output_type": "stream",
     "text": [
      "5\n"
     ]
    }
   ],
   "source": [
    "x=5\n",
    "y=10\n",
    "z=15\n",
    "result=x if x <y else y if y<z else z\n",
    "print(result)"
   ]
  },
  {
   "cell_type": "code",
   "execution_count": 5,
   "metadata": {},
   "outputs": [
    {
     "name": "stdout",
     "output_type": "stream",
     "text": [
      "0 is falsy \n",
      "[] is falsy \n",
      "{} is falsy \n",
      " is falsy \n",
      "None is falsy \n",
      "False is falsy \n",
      "0 is truthy\n",
      "[0] is truthy\n",
      "1 is truthy\n"
     ]
    }
   ],
   "source": [
    "values=[0,[],{},\"\",None,False,\"0\",[0],1]\n",
    "for val in values:\n",
    "    if val:\n",
    "        print(f\"{val} is truthy\")\n",
    "    else:\n",
    "        print(f\"{val} is falsy \")\n"
   ]
  },
  {
   "cell_type": "code",
   "execution_count": 9,
   "metadata": {},
   "outputs": [
    {
     "name": "stdout",
     "output_type": "stream",
     "text": [
      "5\n"
     ]
    }
   ],
   "source": [
    "x=5\n",
    "y=10\n",
    "z=15\n",
    "result=x if x<y else y if y<z else z\n",
    "print(result)"
   ]
  },
  {
   "cell_type": "code",
   "execution_count": 10,
   "metadata": {},
   "outputs": [],
   "source": [
    "if x < y:\n",
    "    result=x\n",
    "    \n",
    "else:\n",
    "    if y <z:\n",
    "        result=y\n",
    "    else:\n",
    "        result=z\n",
    "        "
   ]
  },
  {
   "cell_type": "code",
   "execution_count": 11,
   "metadata": {},
   "outputs": [
    {
     "name": "stdout",
     "output_type": "stream",
     "text": [
      "Positive\n"
     ]
    }
   ],
   "source": [
    "if x<0:\n",
    "    print(\"Negative\")\n",
    "if  x==0:\n",
    "    print(\"Zero\")\n",
    "if x>0:\n",
    "    print(\"Positive\")"
   ]
  },
  {
   "cell_type": "code",
   "execution_count": 12,
   "metadata": {},
   "outputs": [
    {
     "name": "stdout",
     "output_type": "stream",
     "text": [
      "Positive\n"
     ]
    }
   ],
   "source": [
    "if x<0:\n",
    "    print(\"Negative\")\n",
    "elif x==0:\n",
    "    print(\"Zero\")\n",
    "else:\n",
    "    print(\"Positive\")"
   ]
  },
  {
   "cell_type": "code",
   "execution_count": 14,
   "metadata": {},
   "outputs": [
    {
     "name": "stdout",
     "output_type": "stream",
     "text": [
      "y is not Positive\n"
     ]
    }
   ],
   "source": [
    "z=y=0\n",
    "x=1\n",
    "\n",
    "\n",
    "if x>0:\n",
    "    if y>0:\n",
    "        if z>0:\n",
    "            print(\"All positive\")\n",
    "        else:\n",
    "            print(\"z is not positive\")\n",
    "            \n",
    "    else:\n",
    "        print(\"y is not Positive\")\n",
    "else:\n",
    "    print(\"x is not Positive\")"
   ]
  },
  {
   "cell_type": "code",
   "execution_count": 17,
   "metadata": {},
   "outputs": [
    {
     "name": "stdout",
     "output_type": "stream",
     "text": [
      "All positive\n"
     ]
    }
   ],
   "source": [
    "z=y=3\n",
    "x=1\n",
    "\n",
    "\n",
    "if x>0:\n",
    "    if y>0:\n",
    "        if z>0:\n",
    "            print(\"All positive\")\n",
    "        else:\n",
    "            print(\"z is not positive\")\n",
    "            \n",
    "    else:\n",
    "        print(\"y is not Positive\")\n",
    "else:\n",
    "    print(\"x is not Positive\")"
   ]
  },
  {
   "cell_type": "code",
   "execution_count": 19,
   "metadata": {},
   "outputs": [
    {
     "name": "stdout",
     "output_type": "stream",
     "text": [
      "C\n"
     ]
    }
   ],
   "source": [
    "result=\"A\" if x >10 else \"B\" if x>5 else \"C\" if x >0 else \"D\"\n",
    "print(result)"
   ]
  },
  {
   "cell_type": "code",
   "execution_count": 20,
   "metadata": {},
   "outputs": [],
   "source": [
    "if x>10:\n",
    "    result=\"A\"\n",
    "elif x>5:\n",
    "    result=\"B\"\n",
    "elif x>0:\n",
    "    result=\"C\"\n",
    "else:\n",
    "    result=\"D\"\n",
    "    "
   ]
  },
  {
   "cell_type": "code",
   "execution_count": 23,
   "metadata": {},
   "outputs": [
    {
     "name": "stdout",
     "output_type": "stream",
     "text": [
      "Case 1:\n",
      "One\n",
      "Less than five\n",
      "\n",
      "Case 2:\n",
      "Two\n",
      "Less than five\n",
      "Even\n",
      "\n",
      "Case 3:\n",
      "Three\n",
      "Less than five\n",
      "\n",
      "Case 4:\n",
      "Other\n",
      "Less than five\n",
      "Even\n",
      "\n",
      "Case 5:\n",
      "Other\n",
      "Five or more\n",
      "Even\n"
     ]
    }
   ],
   "source": [
    "def tricky_conditions(x):\n",
    "    if x == 1:\n",
    "        print(\"One\")\n",
    "    elif x == 2:\n",
    "        print(\"Two\")\n",
    "    elif x == 3:\n",
    "        print(\"Three\")\n",
    "    else:\n",
    "        print(\"Other\")\n",
    "    if x < 5:\n",
    "        print(\"Less than five\")\n",
    "    else:\n",
    "        print(\"Five or more\")\n",
    "    if x % 2 == 0:\n",
    "        print(\"Even\")\n",
    "        \n",
    "# Test cases\n",
    "print(\"Case 1:\")\n",
    "tricky_conditions(1)\n",
    "\n",
    "print(\"\\nCase 2:\")\n",
    "tricky_conditions(2)\n",
    "\n",
    "print(\"\\nCase 3:\")\n",
    "tricky_conditions(3)\n",
    "\n",
    "print(\"\\nCase 4:\")\n",
    "tricky_conditions(4)\n",
    "\n",
    "print(\"\\nCase 5:\")\n",
    "tricky_conditions(6)"
   ]
  },
  {
   "cell_type": "code",
   "execution_count": 24,
   "metadata": {},
   "outputs": [
    {
     "name": "stdout",
     "output_type": "stream",
     "text": [
      "A\n",
      "B\n",
      "F\n",
      "Invalid score. Please enter a number between 0 and 100.\n"
     ]
    }
   ],
   "source": [
    "def calculate_grade(score):\n",
    "    if score < 0 or score > 100:\n",
    "        return \"Invalid score. Please enter a number between 0 and 100.\"\n",
    "    elif score >= 90:\n",
    "        return \"A\"\n",
    "    elif score >= 80:\n",
    "        return \"B\"\n",
    "    elif score >= 70:\n",
    "        return \"C\"\n",
    "    elif score >= 60:\n",
    "        return \"D\"\n",
    "    else:\n",
    "        return \"F\"\n",
    "\n",
    "# Test the function\n",
    "print(calculate_grade(95))  # A\n",
    "print(calculate_grade(82))  # B\n",
    "print(calculate_grade(45))  # F\n",
    "print(calculate_grade(110)) #\n"
   ]
  },
  {
   "cell_type": "code",
   "execution_count": 25,
   "metadata": {},
   "outputs": [
    {
     "name": "stdout",
     "output_type": "stream",
     "text": [
      "It's a hot day. Remember to drink plenty of water!\n",
      "It's mild but raining. An umbrella might be handy.\n",
      "It's a cold day. Bundle up!\n"
     ]
    }
   ],
   "source": [
    "# Example 1: Weather Advice System\n",
    "def get_weather_advice(temperature, is_raining):\n",
    "    if temperature > 30:\n",
    "        if is_raining:\n",
    "            return \"It's hot and raining. Don't forget an umbrella and stay hydrated!\"\n",
    "        else:\n",
    "            return \"It's a hot day. Remember to drink plenty of water!\"\n",
    "    elif 20 <= temperature <= 30:\n",
    "        if is_raining:\n",
    "            return \"It's mild but raining. An umbrella might be handy.\"\n",
    "        else:\n",
    "            return \"It's a pleasant day. Enjoy the weather!\"\n",
    "    else:\n",
    "        if is_raining:\n",
    "            return \"It's cold and raining. Take a warm jacket and an umbrella!\"\n",
    "        else:\n",
    "            return \"It's a cold day. Bundle up!\"\n",
    "\n",
    "# Test the function\n",
    "print(get_weather_advice(35, False))  # Hot day\n",
    "print(get_weather_advice(25, True))   # Mild and raining\n",
    "print(get_weather_advice(10, False))  # Cold day"
   ]
  },
  {
   "cell_type": "code",
   "execution_count": 27,
   "metadata": {},
   "outputs": [
    {
     "name": "stdout",
     "output_type": "stream",
     "text": [
      "Your balance is $1000\n",
      "Deposit successful. Your new balance is $1500\n",
      "Withdrawal successful. Your new balance is $800\n",
      "Insufficient funds. Cannot complete withdrawal.\n",
      "Invalid action. Please choose 'check_balance', 'deposit', or 'withdraw'.\n"
     ]
    }
   ],
   "source": [
    "def atm_transaction(balance, action, amount=0):\n",
    "    if action == \"check_balance\":\n",
    "        return f\"Your balance is ${balance}\"\n",
    "    elif action == \"deposit\":\n",
    "        if amount <= 0:\n",
    "            return \"Invalid deposit amount. Please enter a positive number.\"\n",
    "        else:\n",
    "            new_balance = balance + amount\n",
    "            return f\"Deposit successful. Your new balance is ${new_balance}\"\n",
    "    elif action == \"withdraw\":\n",
    "        if amount <= 0:\n",
    "            return \"Invalid withdrawal amount. Please enter a positive number.\"\n",
    "        elif amount > balance:\n",
    "            return \"Insufficient funds. Cannot complete withdrawal.\"\n",
    "        else:\n",
    "            new_balance = balance - amount\n",
    "            return f\"Withdrawal successful. Your new balance is ${new_balance}\"\n",
    "    else:\n",
    "        return \"Invalid action. Please choose 'check_balance', 'deposit', or 'withdraw'.\"\n",
    "\n",
    "# Test the function\n",
    "initial_balance = 1000\n",
    "print(atm_transaction(initial_balance, \"check_balance\"))\n",
    "print(atm_transaction(initial_balance, \"deposit\", 500))\n",
    "print(atm_transaction(initial_balance, \"withdraw\", 200))\n",
    "print(atm_transaction(initial_balance, \"withdraw\", 1500))  # Insufficient funds\n",
    "print(atm_transaction(initial_balance, \"transfer\", 100))"
   ]
  },
  {
   "cell_type": "code",
   "execution_count": null,
   "metadata": {},
   "outputs": [],
   "source": []
  }
 ],
 "metadata": {
  "kernelspec": {
   "display_name": "base",
   "language": "python",
   "name": "python3"
  },
  "language_info": {
   "codemirror_mode": {
    "name": "ipython",
    "version": 3
   },
   "file_extension": ".py",
   "mimetype": "text/x-python",
   "name": "python",
   "nbconvert_exporter": "python",
   "pygments_lexer": "ipython3",
   "version": "3.11.7"
  }
 },
 "nbformat": 4,
 "nbformat_minor": 2
}
